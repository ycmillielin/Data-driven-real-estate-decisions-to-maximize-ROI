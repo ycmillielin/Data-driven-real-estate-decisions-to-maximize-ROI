{
 "cells": [
  {
   "cell_type": "code",
   "execution_count": 1,
   "id": "d2acd040",
   "metadata": {},
   "outputs": [],
   "source": [
    "import pandas as pd\n",
    "import censusdata\n",
    "import numpy as np\n",
    "import re\n",
    "from bs4 import BeautifulSoup\n",
    "import requests\n",
    "import os\n",
    "import json"
   ]
  },
  {
   "cell_type": "code",
   "execution_count": 5,
   "id": "87ddb057",
   "metadata": {},
   "outputs": [],
   "source": [
    "states = censusdata.geographies(censusdata.censusgeo([('state', '*')]), 'acs5', 2013)"
   ]
  },
  {
   "cell_type": "markdown",
   "id": "a27cf879",
   "metadata": {},
   "source": [
    "# Population"
   ]
  },
  {
   "cell_type": "code",
   "execution_count": 3,
   "id": "02a64a02",
   "metadata": {},
   "outputs": [],
   "source": [
    "def get_pop(state_code):\n",
    "    # get area code\n",
    "    test = censusdata.download('acs5', 2013, censusdata.censusgeo([('state', state_code),\n",
    "        ('county', '*'), ('block group', '*')]), ['B01003_001E'])\n",
    "    area_code = pd.DataFrame(test.index.astype(str))\n",
    "    area_code['state'] = area_code[0].apply(lambda x:re.findall('state:(\\d+)',x)[0])\n",
    "    area_code['county'] = area_code[0].apply(lambda x:re.findall('county:(\\d+)',x)[0])\n",
    "    area_code['tract'] = area_code[0].apply(lambda x:re.findall('tract:(\\d+)',x)[0])\n",
    "    area_code['block'] = area_code[0].apply(lambda x:re.findall('block group:(\\d+)',x)[0])\n",
    "    \n",
    "    # get variables\n",
    "    year = [2013, 2014, 2015, 2016, 2017, 2018, 2019, 2020]\n",
    "    Pop = pd.DataFrame(area_code)\n",
    "    Pop.rename(columns={0 :'geo'}, inplace=True)\n",
    "    Pop = Pop.set_index('geo')\n",
    "    \n",
    "    for i in year:\n",
    "        pop = censusdata.download('acs5', i,\n",
    "                   censusdata.censusgeo([('state', state_code),('county', '*'), ('block group', '*')]), \n",
    "                                  ['B01003_001E', 'B02001_002E', 'B02001_003E', 'B02001_004E', 'B02001_005E', \n",
    "                                   'B02001_006E', 'B01001_002E', 'B01001_026E', 'B01001_003E', 'B01001_004E',\n",
    "                                   'B01001_005E', 'B01001_006E', 'B01001_007E', 'B01001_027E', 'B01001_028E',\n",
    "                                   'B01001_029E', 'B01001_030E', 'B01001_031E', 'B01001_032E', 'B01001_008E',\n",
    "                                   'B01001_009E', 'B01001_010E', 'B01001_011E', 'B01001_033E', 'B01001_034E', \n",
    "                                   'B01001_035E', 'B01001_012E', 'B01001_013E', 'B01001_036E', 'B01001_037E', \n",
    "                                   'B01001_014E', 'B01001_015E', 'B01001_038E', 'B01001_039E', 'B01001_016E', \n",
    "                                   'B01001_017E', 'B01001_040E', 'B01001_041E', 'B01001_018E', 'B01001_019E',\n",
    "                                   'B01001_020E', 'B01001_021E', 'B01001_042E', 'B01001_043E', 'B01001_044E', \n",
    "                                   'B01001_045E', 'B01001_022E', 'B01001_023E', 'B01001_024E', 'B01001_025E', \n",
    "                                   'B01001_046E', 'B01001_047E', 'B01001_048E', 'B01001_049E'])\n",
    "\n",
    "        pop.index = pop.index.astype(str)\n",
    "\n",
    "        Pop[f'{i}_population'] = pop['B01003_001E']\n",
    "        Pop[f'{i}_white_pop'] = pop['B02001_002E']\n",
    "        Pop[f'{i}_Black_pop'] = pop['B02001_003E']\n",
    "        Pop[f'{i}_Native_pop'] = pop['B02001_004E']\n",
    "        Pop[f'{i}_Asian_pop'] = pop['B02001_005E']\n",
    "        Pop[f'{i}_Pacific_pop'] = pop['B02001_006E']\n",
    "        Pop[f'{i}_male_population'] = pop['B01001_002E']\n",
    "        Pop[f'{i}_female_population'] = pop['B01001_026E']\n",
    "        Pop[f'{i}_0-19_pop'] = pop['B01001_003E']+pop['B01001_004E']+pop['B01001_005E']+pop['B01001_006E']+\\\n",
    "                                       pop['B01001_007E']+pop['B01001_027E']+pop['B01001_028E']+\\\n",
    "                                       pop['B01001_029E']+pop['B01001_030E']+pop['B01001_031E']\n",
    "        Pop[f'{i}_20-29_pop'] = pop['B01001_008E']+pop['B01001_009E']+pop['B01001_010E']+pop['B01001_011E']+\\\n",
    "                                        pop['B01001_032E']+pop['B01001_033E']+pop['B01001_034E']+pop['B01001_035E']\n",
    "        Pop[f'{i}_30-39_pop'] = pop['B01001_012E']+pop['B01001_013E']+pop['B01001_036E']+pop['B01001_037E']\n",
    "        Pop[f'{i}_40-49_pop'] = pop['B01001_014E']+pop['B01001_015E']+pop['B01001_038E']+pop['B01001_039E']\n",
    "        Pop[f'{i}_50-59_pop'] = pop['B01001_016E']+pop['B01001_017E']+pop['B01001_040E']+pop['B01001_041E']\n",
    "        Pop[f'{i}_60-69_pop'] = pop['B01001_018E']+pop['B01001_019E']+pop['B01001_020E']+pop['B01001_021E']+\\\n",
    "                                        pop['B01001_042E']+pop['B01001_043E']+pop['B01001_044E']+pop['B01001_045E']\n",
    "        Pop[f'{i}_70+_pop'] = pop['B01001_022E']+pop['B01001_023E']+pop['B01001_024E']+pop['B01001_025E']+\\\n",
    "                                      pop['B01001_046E']+pop['B01001_047E']+pop['B01001_048E']+pop['B01001_049E']\n",
    "        \n",
    "    # to tract level\n",
    "    Pop['tract'] = Pop['state'].astype('str') + Pop['county'].astype('str') + Pop['tract'].astype('str')\n",
    "    Pop = Pop.groupby('tract')[Pop.columns.tolist()[4:]].sum(min_count=1)\n",
    "\n",
    "    return Pop"
   ]
  },
  {
   "cell_type": "code",
   "execution_count": 7,
   "id": "dbaaf882",
   "metadata": {},
   "outputs": [],
   "source": [
    "def get_pop_melt(cat, pop_file):\n",
    "    year = [2016, 2017, 2018, 2019, 2020, 2021, 2022]\n",
    "    Pop = pd.read_csv(pop_file)\n",
    "    category = ['population', 'white_pop', 'Black_pop', 'Native_pop', 'Asian_pop', 'Pacific_pop',\n",
    "                'male_population', 'female_population', '0-19_pop', '20-29_pop', '30-39_pop',\n",
    "                '40-49_pop', '50-59_pop', '60-69_pop', '70+_pop']\n",
    "    for j in category:\n",
    "        Pop.loc[Pop[f'2020_{j}'] == 0, f'2020_{j}'] = np.nan\n",
    "        Pop[f'2021_{j}'] = np.nan\n",
    "        Pop[f'2022_{j}'] = np.nan\n",
    "    Pop.reset_index(inplace=True)\n",
    "    df = Pop.melt(\n",
    "        id_vars = ['tract'],\n",
    "        value_vars = [f'{i}_{cat}' for i in year], #vars that we want to melt\n",
    "        var_name = 'year', value_name = cat)\n",
    "    df['year'] = df['year'].str.extract('(\\d+)').astype(str)\n",
    "    df = df.sort_values(by=['tract', 'year'])\n",
    "    df = df.interpolate(method='linear')\n",
    "    df.reset_index(drop=True, inplace=True)\n",
    "    \n",
    "    return df"
   ]
  },
  {
   "cell_type": "code",
   "execution_count": 8,
   "id": "ccd6d144",
   "metadata": {},
   "outputs": [],
   "source": [
    "def concat_pop_melt(pop_file):\n",
    "    df1 = get_pop_melt('population', pop_file)\n",
    "    df2 = get_pop_melt('white_pop', pop_file).drop(columns=['tract', 'year'])\n",
    "    df3 = get_pop_melt('Black_pop', pop_file).drop(columns=['tract', 'year'])\n",
    "    df4 = get_pop_melt('Native_pop', pop_file).drop(columns=['tract', 'year'])\n",
    "    df5 = get_pop_melt('Asian_pop', pop_file).drop(columns=['tract', 'year'])\n",
    "    df6 = get_pop_melt('Pacific_pop', pop_file).drop(columns=['tract', 'year'])\n",
    "    df7 = get_pop_melt('male_population', pop_file).drop(columns=['tract', 'year'])\n",
    "    df8 = get_pop_melt('female_population', pop_file).drop(columns=['tract', 'year'])\n",
    "    df9 = get_pop_melt('0-19_pop', pop_file).drop(columns=['tract', 'year'])\n",
    "    df10 = get_pop_melt('20-29_pop', pop_file).drop(columns=['tract', 'year'])\n",
    "    df11 = get_pop_melt('30-39_pop', pop_file).drop(columns=['tract', 'year'])\n",
    "    df12 = get_pop_melt('40-49_pop', pop_file).drop(columns=['tract', 'year'])\n",
    "    df13 = get_pop_melt('50-59_pop', pop_file).drop(columns=['tract', 'year'])\n",
    "    df14 = get_pop_melt('60-69_pop', pop_file).drop(columns=['tract', 'year'])\n",
    "    df15 = get_pop_melt('70+_pop', pop_file).drop(columns=['tract', 'year'])\n",
    "    \n",
    "    pdList = [df1, df2, df3, df4, df5, df6, df7, df8, df9, df10, df11, df12, df13, df14, df15]\n",
    "    final_pop = pd.concat(pdList, axis=1)\n",
    "    \n",
    "    return final_pop"
   ]
  },
  {
   "cell_type": "markdown",
   "id": "522244c4",
   "metadata": {},
   "source": [
    "## Region1: Florida"
   ]
  },
  {
   "cell_type": "code",
   "execution_count": 6,
   "id": "e3881234",
   "metadata": {},
   "outputs": [
    {
     "name": "stdout",
     "output_type": "stream",
     "text": [
      "Florida: Summary level: 040, state:12\n"
     ]
    }
   ],
   "source": [
    "# Florida\n",
    "print('Florida:', states['Florida'])"
   ]
  },
  {
   "cell_type": "code",
   "execution_count": null,
   "id": "d26f922e",
   "metadata": {},
   "outputs": [],
   "source": [
    "FL_pop = get_pop('12')\n",
    "FL_pop"
   ]
  },
  {
   "cell_type": "code",
   "execution_count": null,
   "id": "e97498e9",
   "metadata": {},
   "outputs": [],
   "source": [
    "FL_pop['2016_population']"
   ]
  },
  {
   "cell_type": "code",
   "execution_count": null,
   "id": "54c5ed20",
   "metadata": {},
   "outputs": [],
   "source": [
    "FL_pop.to_csv('FL_pop.csv')"
   ]
  },
  {
   "cell_type": "code",
   "execution_count": null,
   "id": "45924039",
   "metadata": {},
   "outputs": [],
   "source": [
    "# melt\n",
    "FL_pop_new = concat_pop_melt('FL_pop.csv')\n",
    "FL_pop_new"
   ]
  },
  {
   "cell_type": "code",
   "execution_count": null,
   "id": "d18e1651",
   "metadata": {},
   "outputs": [],
   "source": [
    "FL_pop_new.to_csv('FL_pop_new.csv')"
   ]
  },
  {
   "cell_type": "code",
   "execution_count": null,
   "id": "51f30283",
   "metadata": {},
   "outputs": [],
   "source": [
    "FL_pop_0624 = pd.read_csv('FL_pop_new.csv', index_col = 0)\n",
    "FL_pop_0624['tract'] = FL_pop_0624['tract'].astype(str)\n",
    "FL_pop_0624['state_code'] = FL_pop_0624.apply(lambda row: row.tract[0:2], axis=1)\n",
    "FL_pop_0624['state'] = 'FL'\n",
    "FL_pop_0624['county'] = FL_pop_0624.apply(lambda row: row.tract[2:5], axis=1)\n",
    "FL_pop_0624.to_csv('FL_pop_0624.csv')"
   ]
  },
  {
   "cell_type": "markdown",
   "id": "8996adcd",
   "metadata": {},
   "source": [
    "## Region2: SouthEast"
   ]
  },
  {
   "cell_type": "code",
   "execution_count": null,
   "id": "b8c26333",
   "metadata": {},
   "outputs": [],
   "source": [
    "# South East\n",
    "print('Georgia:', states['Georgia'])\n",
    "print('North Carolina:', states['North Carolina'])\n",
    "print('South Carolina:', states['South Carolina'])\n",
    "print('Alabama:', states['Alabama'])"
   ]
  },
  {
   "cell_type": "code",
   "execution_count": null,
   "id": "5de69d4a",
   "metadata": {},
   "outputs": [],
   "source": [
    "GA_pop = get_pop('13')\n",
    "NC_pop = get_pop('37')\n",
    "SC_pop = get_pop('45')\n",
    "AL_pop = get_pop('01')"
   ]
  },
  {
   "cell_type": "code",
   "execution_count": null,
   "id": "c1530049",
   "metadata": {},
   "outputs": [],
   "source": [
    "pdList = [GA_pop, NC_pop, SC_pop, AL_pop] \n",
    "SouthEast_pop = pd.concat(pdList)\n",
    "SouthEast_pop.shape"
   ]
  },
  {
   "cell_type": "code",
   "execution_count": null,
   "id": "4bc1fab7",
   "metadata": {},
   "outputs": [],
   "source": [
    "SouthEast_pop.to_csv('SouthEast_pop.csv')"
   ]
  },
  {
   "cell_type": "code",
   "execution_count": null,
   "id": "8e7b2040",
   "metadata": {},
   "outputs": [],
   "source": [
    "# melt\n",
    "SouthEast_pop_new = concat_pop_melt('SouthEast_pop.csv')"
   ]
  },
  {
   "cell_type": "code",
   "execution_count": null,
   "id": "eb9f3db5",
   "metadata": {},
   "outputs": [],
   "source": [
    "SouthEast_pop_new['tract'] = SouthEast_pop_new['tract'].apply(lambda x: str(x).zfill(11))\n",
    "SouthEast_pop_new.to_csv('SouthEast_pop_new.csv')"
   ]
  },
  {
   "cell_type": "code",
   "execution_count": null,
   "id": "b54a078f",
   "metadata": {},
   "outputs": [],
   "source": [
    "SouthEast_pop_0624 = pd.read_csv('SouthEast_pop_new.csv', index_col = 0)\n",
    "SouthEast_pop_0624['tract'] = SouthEast_pop_0624['tract'].astype(str)\n",
    "SouthEast_pop_0624['tract']=SouthEast_pop_0624['tract'].apply(lambda x: str(x).zfill(11))\n",
    "SouthEast_pop_0624['state_code'] = SouthEast_pop_0624.apply(lambda row: row.tract[0:2], axis=1)\n",
    "SouthEast_pop_0624['state'] = ['AL' if i=='01' else 'GA' if i == '13' \n",
    "                               else 'NC' if i == '37' else 'SC' for i in SouthEast_pop_0624['state_code']]\n",
    "SouthEast_pop_0624['county'] = SouthEast_pop_0624.apply(lambda row: row.tract[2:5], axis=1)\n",
    "SouthEast_pop_0624.to_csv('SouthEast_pop_0624.csv')"
   ]
  },
  {
   "cell_type": "markdown",
   "id": "03a0c350",
   "metadata": {},
   "source": [
    "## Region3: South"
   ]
  },
  {
   "cell_type": "code",
   "execution_count": null,
   "id": "577dcfa9",
   "metadata": {},
   "outputs": [],
   "source": [
    "# South\n",
    "print('Alabama:', states['Alabama'])\n",
    "print('Georgia:', states['Georgia'])\n",
    "print('Arkansas:', states['Arkansas'])\n",
    "print('Indiana:', states['Indiana'])\n",
    "print('Kentucky:', states['Kentucky'])\n",
    "print('Louisiana:', states['Louisiana'])\n",
    "print('Mississippi:', states['Mississippi'])\n",
    "print('Tennessee:', states['Tennessee'])"
   ]
  },
  {
   "cell_type": "code",
   "execution_count": null,
   "id": "c1334648",
   "metadata": {},
   "outputs": [],
   "source": [
    "AR_pop = get_pop('05')\n",
    "IN_pop = get_pop('18')\n",
    "KY_pop = get_pop('21')\n",
    "LA_pop = get_pop('22')\n",
    "MS_pop = get_pop('28')\n",
    "TN_pop = get_pop('47')"
   ]
  },
  {
   "cell_type": "code",
   "execution_count": null,
   "id": "1ad5b862",
   "metadata": {},
   "outputs": [],
   "source": [
    "pdList = [GA_pop, AL_pop, AR_pop, IN_pop, KY_pop, LA_pop, MS_pop, TN_pop] \n",
    "South_pop = pd.concat(pdList)\n",
    "South_pop.to_csv('South_pop.csv')"
   ]
  },
  {
   "cell_type": "code",
   "execution_count": null,
   "id": "3a0b9515",
   "metadata": {},
   "outputs": [],
   "source": [
    "# melt\n",
    "South_pop_new = concat_pop_melt('South_pop.csv')\n",
    "South_pop_new.to_csv('South_pop_new.csv')"
   ]
  },
  {
   "cell_type": "code",
   "execution_count": null,
   "id": "379c583c",
   "metadata": {},
   "outputs": [],
   "source": [
    "South_pop_0624 = pd.read_csv('South_pop_new.csv', index_col = 0)\n",
    "South_pop_0624['tract'] = South_pop_0624['tract'].astype(str)\n",
    "South_pop_0624['tract']=South_pop_0624['tract'].apply(lambda x: str(x).zfill(11))\n",
    "South_pop_0624['state_code'] = South_pop_0624.apply(lambda row: row.tract[0:2], axis=1)\n",
    "South_pop_0624['state'] = ['AL' if i=='01' else 'GA' if i == '13' else 'AR' if i == '05' \n",
    "                           else 'IN' if i == '18' else 'KY' if i == '21' else 'LA' if i == '22' \n",
    "                           else 'MS' if i == '28' else 'TN' for i in South_pop_0624['state_code']]\n",
    "South_pop_0624['county'] = South_pop_0624.apply(lambda row: row.tract[2:5], axis=1)\n",
    "South_pop_0624.to_csv('South_pop_0624.csv')"
   ]
  },
  {
   "cell_type": "markdown",
   "id": "f8d64886",
   "metadata": {},
   "source": [
    "## Region4: SouthWest"
   ]
  },
  {
   "cell_type": "code",
   "execution_count": null,
   "id": "0dd0971e",
   "metadata": {},
   "outputs": [],
   "source": [
    "# South West\n",
    "print('New Mexico:', states['New Mexico'])\n",
    "print('Oklahoma:', states['Oklahoma'])\n",
    "print('Texas:', states['Texas'])"
   ]
  },
  {
   "cell_type": "code",
   "execution_count": null,
   "id": "c51351f3",
   "metadata": {},
   "outputs": [],
   "source": [
    "NM_pop = get_pop('35')\n",
    "OK_pop = get_pop('40')\n",
    "TX_pop = get_pop('48')"
   ]
  },
  {
   "cell_type": "code",
   "execution_count": null,
   "id": "4e6b18d2",
   "metadata": {},
   "outputs": [],
   "source": [
    "pdList = [NM_pop, OK_pop, TX_pop] \n",
    "SouthWest_pop = pd.concat(pdList)\n",
    "SouthWest_pop.to_csv('SouthWest_pop.csv')"
   ]
  },
  {
   "cell_type": "code",
   "execution_count": null,
   "id": "c1184aad",
   "metadata": {},
   "outputs": [],
   "source": [
    "# melt\n",
    "SouthWest_pop_new = concat_pop_melt('SouthWest_pop.csv')\n",
    "SouthWest_pop_new.to_csv('SouthWest_pop_new.csv')"
   ]
  },
  {
   "cell_type": "code",
   "execution_count": null,
   "id": "52015b78",
   "metadata": {},
   "outputs": [],
   "source": [
    "SouthWest_pop_0624 = pd.read_csv('SouthWest_pop_new.csv', index_col = 0)\n",
    "SouthWest_pop_0624['tract'] = SouthWest_pop_0624['tract'].astype(str)\n",
    "SouthWest_pop_0624['tract']=SouthWest_pop_0624['tract'].apply(lambda x: str(x).zfill(11))\n",
    "SouthWest_pop_0624['state_code'] = SouthWest_pop_0624.apply(lambda row: row.tract[0:2], axis=1)\n",
    "SouthWest_pop_0624['state'] = ['NM' if i=='35' \n",
    "                           else 'OK' if i == '40' else 'TX' for i in SouthWest_pop_0624['state_code']]\n",
    "SouthWest_pop_0624['county'] = SouthWest_pop_0624.apply(lambda row: row.tract[2:5], axis=1)\n",
    "SouthWest_pop_0624.to_csv('SouthWest_pop_0624.csv')"
   ]
  },
  {
   "cell_type": "markdown",
   "id": "2f173461",
   "metadata": {},
   "source": [
    "## Region5: Western"
   ]
  },
  {
   "cell_type": "code",
   "execution_count": null,
   "id": "d40ecc00",
   "metadata": {},
   "outputs": [],
   "source": [
    "# Western\n",
    "print('Arizona:', states['Arizona'])\n",
    "print('Colorado:', states['Colorado'])\n",
    "print('Idaho:', states['Idaho'])\n",
    "print('Montana:', states['Montana'])\n",
    "print('New Mexico:', states['New Mexico'])\n",
    "print('Nevada:', states['Nevada'])\n",
    "print('Oregon:', states['Oregon'])\n",
    "print('Utah:', states['Utah'])\n",
    "print('Wyoming:', states['Wyoming'])"
   ]
  },
  {
   "cell_type": "code",
   "execution_count": null,
   "id": "c27c97f3",
   "metadata": {},
   "outputs": [],
   "source": [
    "AZ_pop = get_pop('04')\n",
    "CO_pop = get_pop('08')\n",
    "ID_pop = get_pop('16')\n",
    "MT_pop = get_pop('30')\n",
    "NV_pop = get_pop('32')\n",
    "OR_pop = get_pop('41')\n",
    "UT_pop = get_pop('49')\n",
    "WY_pop = get_pop('56')"
   ]
  },
  {
   "cell_type": "code",
   "execution_count": null,
   "id": "bb33dac2",
   "metadata": {},
   "outputs": [],
   "source": [
    "pdList = [NM_pop, AZ_pop, CO_pop, ID_pop, MT_pop, NV_pop, OR_pop, UT_pop, WY_pop] \n",
    "Western_pop = pd.concat(pdList)\n",
    "Western_pop.to_csv('Western_pop.csv')"
   ]
  },
  {
   "cell_type": "code",
   "execution_count": null,
   "id": "ccd6963f",
   "metadata": {},
   "outputs": [],
   "source": [
    "# melt\n",
    "Western_pop_new = concat_pop_melt('Western_pop.csv')\n",
    "Western_pop_new.to_csv('Western_pop_new.csv')"
   ]
  },
  {
   "cell_type": "code",
   "execution_count": null,
   "id": "6439057e",
   "metadata": {},
   "outputs": [],
   "source": [
    "Western_pop_0624 = pd.read_csv('Western_pop_new.csv', index_col = 0)\n",
    "Western_pop_0624['tract'] = Western_pop_0624['tract'].astype(str)\n",
    "Western_pop_0624['tract']=Western_pop_0624['tract'].apply(lambda x: str(x).zfill(11))\n",
    "Western_pop_0624['state_code'] = Western_pop_0624.apply(lambda row: row.tract[0:2], axis=1)\n",
    "Western_pop_0624['state'] = ['NM' if i=='35' else 'AZ' if i == '04' else 'CO' if i == '08'\n",
    "                           else 'ID' if i == '16' else 'MT' if i == '30' else 'NV' if i == '32'\n",
    "                           else 'OR' if i == '41' else 'UT' if i == '49' else 'WY' \n",
    "                           for i in Western_pop_0624['state_code']]\n",
    "Western_pop_0624['county'] = Western_pop_0624.apply(lambda row: row.tract[2:5], axis=1)\n",
    "Western_pop_0624.to_csv('Western_pop_0624.csv')"
   ]
  },
  {
   "cell_type": "markdown",
   "id": "51b7df1b",
   "metadata": {},
   "source": [
    "## Region6: California"
   ]
  },
  {
   "cell_type": "code",
   "execution_count": null,
   "id": "25aa5731",
   "metadata": {},
   "outputs": [],
   "source": [
    "# Western\n",
    "print('California:', states['California'])"
   ]
  },
  {
   "cell_type": "code",
   "execution_count": null,
   "id": "282efb1e",
   "metadata": {},
   "outputs": [],
   "source": [
    "CA_pop = get_pop('06')\n",
    "CA_pop.to_csv('CA_pop.csv')"
   ]
  },
  {
   "cell_type": "code",
   "execution_count": null,
   "id": "7dd2704d",
   "metadata": {},
   "outputs": [],
   "source": [
    "# melt\n",
    "CA_pop_new = concat_pop_melt('CA_pop.csv')\n",
    "CA_pop_new.to_csv('CA_pop_new.csv')"
   ]
  },
  {
   "cell_type": "code",
   "execution_count": null,
   "id": "6a6a3f99",
   "metadata": {},
   "outputs": [],
   "source": [
    "CA_pop_0624 = pd.read_csv('CA_pop_new.csv', index_col = 0)\n",
    "CA_pop_0624['tract'] = CA_pop_0624['tract'].astype(str)\n",
    "CA_pop_0624['tract']=CA_pop_0624['tract'].apply(lambda x: str(x).zfill(11))\n",
    "CA_pop_0624['state_code'] = CA_pop_0624.apply(lambda row: row.tract[0:2], axis=1)\n",
    "CA_pop_0624['state'] = 'CA'\n",
    "CA_pop_0624['county'] = CA_pop_0624.apply(lambda row: row.tract[2:5], axis=1)\n",
    "CA_pop_0624.to_csv('CA_pop_0624.csv')"
   ]
  },
  {
   "cell_type": "markdown",
   "id": "39b40f3b",
   "metadata": {},
   "source": [
    "# Median Household Income"
   ]
  },
  {
   "cell_type": "code",
   "execution_count": null,
   "id": "e02e5e22",
   "metadata": {},
   "outputs": [],
   "source": [
    "def get_income(state_code):\n",
    "    # get area code\n",
    "    test = censusdata.download('acs5', 2013, censusdata.censusgeo([('state', state_code),\n",
    "        ('county', '*'), ('block group', '*')]), ['B19013_001E'])\n",
    "    area_code = pd.DataFrame(test.index.astype(str))\n",
    "    area_code['state'] = area_code[0].apply(lambda x:re.findall('state:(\\d+)',x)[0])\n",
    "    area_code['county'] = area_code[0].apply(lambda x:re.findall('county:(\\d+)',x)[0])\n",
    "    area_code['tract'] = area_code[0].apply(lambda x:re.findall('tract:(\\d+)',x)[0])\n",
    "    area_code['block'] = area_code[0].apply(lambda x:re.findall('block group:(\\d+)',x)[0])\n",
    "    \n",
    "    # get variables\n",
    "    # Median household income in the past 12 months\n",
    "    year = [2013, 2014, 2015, 2016, 2017, 2018, 2019, 2020]\n",
    "    Income = pd.DataFrame(area_code)\n",
    "    Income.rename( columns={0 :'geo'}, inplace=True)\n",
    "    Income = Income.set_index('geo')\n",
    "\n",
    "    for i in year:\n",
    "        income = censusdata.download('acs5', i,\n",
    "                   censusdata.censusgeo([('state', state_code),\n",
    "                                         ('county', '*'),\n",
    "                                         ('block group', '*')]), \n",
    "                                  ['B19013_001E'])\n",
    "\n",
    "        income.index = income.index.astype(str)\n",
    "        Income[f'{i}_median_income'] = income['B19013_001E']\n",
    "\n",
    "        \n",
    "    # to tract level\n",
    "    Income.replace(-666666666, np.nan, inplace = True)\n",
    "    Income['tract'] = Income['state'].astype('str')+Income['county'].astype('str')+Income['tract'].astype('str')\n",
    "    Income = Income.groupby('tract')[Income.columns.tolist()[4:]].median()\n",
    "\n",
    "    return Income"
   ]
  },
  {
   "cell_type": "code",
   "execution_count": null,
   "id": "b6960022",
   "metadata": {},
   "outputs": [],
   "source": [
    "def get_income_melt(pop_file):\n",
    "    year = [2016, 2017, 2018, 2019, 2020, 2021, 2022]\n",
    "    Income = pd.read_csv(pop_file)\n",
    "\n",
    "    Income.loc[Income[f'2020_median_income'] == 0, f'2020_{j}'] = np.nan\n",
    "    Income[f'2021_median_income'] = np.nan\n",
    "    Income[f'2022_median_income'] = np.nan\n",
    "    Income.reset_index(inplace=True)\n",
    "    \n",
    "    df = Income.melt(\n",
    "        id_vars = ['tract'],\n",
    "        value_vars = [f'{i}_median_income' for i in year], #vars that we want to melt\n",
    "        var_name = 'year', value_name = 'median_income')\n",
    "    df['year'] = df['year'].str.extract('(\\d+)').astype(str)\n",
    "    df = df.sort_values(by=['tract', 'year'])\n",
    "    df = df.interpolate(method='linear')\n",
    "    df.reset_index(drop=True, inplace=True)\n",
    "    \n",
    "    return df"
   ]
  },
  {
   "cell_type": "markdown",
   "id": "683c3424",
   "metadata": {},
   "source": [
    "## Region1: Florida"
   ]
  },
  {
   "cell_type": "code",
   "execution_count": null,
   "id": "b766fe36",
   "metadata": {},
   "outputs": [],
   "source": [
    "FL_income = get_income('12')\n",
    "FL_income.to_csv('FL_income.csv')"
   ]
  },
  {
   "cell_type": "code",
   "execution_count": null,
   "id": "16d15083",
   "metadata": {},
   "outputs": [],
   "source": [
    "FL_income_new = get_income_melt('FL_income.csv')\n",
    "FL_income_new.to_csv('FL_income_new.csv')"
   ]
  },
  {
   "cell_type": "code",
   "execution_count": null,
   "id": "c11aa4c5",
   "metadata": {},
   "outputs": [],
   "source": [
    "FL_income_0624 = pd.read_csv('FL_income_new.csv', index_col = 0)\n",
    "FL_income_0624['tract'] = FL_income_0624['tract'].astype(str)\n",
    "FL_income_0624['tract']=FL_income_0624['tract'].apply(lambda x: str(x).zfill(11))\n",
    "FL_income_0624['state_code'] = FL_income_0624.apply(lambda row: row.tract[0:2], axis=1)\n",
    "FL_income_0624['state'] = 'FL'\n",
    "FL_income_0624['county'] = FL_income_0624.apply(lambda row: row.tract[2:5], axis=1)\n",
    "FL_income_0624.to_csv('FL_income_0624.csv')"
   ]
  },
  {
   "cell_type": "markdown",
   "id": "68abd8c2",
   "metadata": {},
   "source": [
    "## Region2: SouthEast"
   ]
  },
  {
   "cell_type": "code",
   "execution_count": null,
   "id": "d40c0539",
   "metadata": {},
   "outputs": [],
   "source": [
    "GA_income = get_income('13')\n",
    "NC_income = get_income('37')\n",
    "SC_income = get_income('45')\n",
    "AL_income = get_income('01')"
   ]
  },
  {
   "cell_type": "code",
   "execution_count": null,
   "id": "fffa5a4b",
   "metadata": {},
   "outputs": [],
   "source": [
    "pdList = [GA_income, NC_income, SC_income, AL_income] \n",
    "SouthEast_income = pd.concat(pdList)\n",
    "SouthEast_income.to_csv('SouthEast_income.csv')"
   ]
  },
  {
   "cell_type": "code",
   "execution_count": null,
   "id": "2150266e",
   "metadata": {},
   "outputs": [],
   "source": [
    "SouthEast_income_new = get_income_melt('SouthEast_income.csv')\n",
    "SouthEast_income_new.to_csv('SouthEast_income_new.csv')"
   ]
  },
  {
   "cell_type": "code",
   "execution_count": null,
   "id": "5cbc62a4",
   "metadata": {},
   "outputs": [],
   "source": [
    "SouthEast_income_0624 = pd.read_csv('SouthEast_income_new.csv', index_col = 0)\n",
    "SouthEast_income_0624['tract'] = SouthEast_income_0624['tract'].astype(str)\n",
    "SouthEast_income_0624['tract']=SouthEast_income_0624['tract'].apply(lambda x: str(x).zfill(11))\n",
    "SouthEast_income_0624['state_code'] = SouthEast_income_0624.apply(lambda row: row.tract[0:2], axis=1)\n",
    "SouthEast_income_0624['state'] = ['AL' if i=='01' else 'GA' if i == '13' \n",
    "                               else 'NC' if i == '37' else 'SC' for i in SouthEast_income_0624['state_code']]\n",
    "SouthEast_income_0624['county'] = SouthEast_income_0624.apply(lambda row: row.tract[2:5], axis=1)\n",
    "SouthEast_income_0624.to_csv('SouthEast_income_0624.csv')"
   ]
  },
  {
   "cell_type": "markdown",
   "id": "10475345",
   "metadata": {},
   "source": [
    "## Region3: South"
   ]
  },
  {
   "cell_type": "code",
   "execution_count": null,
   "id": "a1e1e14a",
   "metadata": {},
   "outputs": [],
   "source": [
    "AR_income = get_income('05')\n",
    "IN_income = get_income('18')\n",
    "KY_income = get_income('21')\n",
    "LA_income = get_income('22')\n",
    "MS_income = get_income('28')\n",
    "TN_income = get_income('47')"
   ]
  },
  {
   "cell_type": "code",
   "execution_count": null,
   "id": "8200aac9",
   "metadata": {},
   "outputs": [],
   "source": [
    "pdList = [GA_income, AL_income, AR_income, IN_income, KY_income, LA_income, MS_income, TN_income] \n",
    "South_income = pd.concat(pdList)\n",
    "South_income.to_csv('South_income.csv')"
   ]
  },
  {
   "cell_type": "code",
   "execution_count": null,
   "id": "ce900e7c",
   "metadata": {},
   "outputs": [],
   "source": [
    "South_income_new = get_income_melt('South_income.csv')\n",
    "South_income_new.to_csv('South_income_new.csv')"
   ]
  },
  {
   "cell_type": "code",
   "execution_count": null,
   "id": "081f9f11",
   "metadata": {},
   "outputs": [],
   "source": [
    "South_income_0624 = pd.read_csv('South_income_new.csv', index_col = 0)\n",
    "South_income_0624['tract'] = South_income_0624['tract'].astype(str)\n",
    "South_income_0624['tract']=South_income_0624['tract'].apply(lambda x: str(x).zfill(11))\n",
    "South_income_0624['state_code'] = South_income_0624.apply(lambda row: row.tract[0:2], axis=1)\n",
    "South_income_0624['state'] = ['AL' if i=='01' else 'GA' if i == '13' else 'AR' if i == '05' \n",
    "                           else 'IN' if i == '18' else 'KY' if i == '21' else 'LA' if i == '22' \n",
    "                           else 'MS' if i == '28' else 'TN' for i in South_income_0624['state_code']]\n",
    "South_income_0624['county'] = South_income_0624.apply(lambda row: row.tract[2:5], axis=1)\n",
    "South_income_0624.to_csv('South_income_0624.csv')"
   ]
  },
  {
   "cell_type": "markdown",
   "id": "b21b3992",
   "metadata": {},
   "source": [
    "## Region4: SouthWest"
   ]
  },
  {
   "cell_type": "code",
   "execution_count": null,
   "id": "8fb7c302",
   "metadata": {},
   "outputs": [],
   "source": [
    "NM_income = get_income('35')\n",
    "OK_income = get_income('40')\n",
    "TX_income = get_income('48')"
   ]
  },
  {
   "cell_type": "code",
   "execution_count": null,
   "id": "27bf2279",
   "metadata": {},
   "outputs": [],
   "source": [
    "pdList = [NM_income, OK_income, TX_income] \n",
    "SouthWest_income = pd.concat(pdList)\n",
    "SouthWest_income.to_csv('SouthWest_income.csv')"
   ]
  },
  {
   "cell_type": "code",
   "execution_count": null,
   "id": "8293fa17",
   "metadata": {},
   "outputs": [],
   "source": [
    "SouthWest_income_new = get_income_melt('SouthWest_income.csv')\n",
    "SouthWest_income_new.to_csv('SouthWest_income_new.csv')"
   ]
  },
  {
   "cell_type": "code",
   "execution_count": null,
   "id": "6cbd2860",
   "metadata": {},
   "outputs": [],
   "source": [
    "SouthWest_income_0624 = pd.read_csv('SouthWest_income_new.csv', index_col = 0)\n",
    "SouthWest_income_0624['tract'] = SouthWest_income_0624['tract'].astype(str)\n",
    "SouthWest_income_0624['tract']=SouthWest_income_0624['tract'].apply(lambda x: str(x).zfill(11))\n",
    "SouthWest_income_0624['state_code'] = SouthWest_income_0624.apply(lambda row: row.tract[0:2], axis=1)\n",
    "SouthWest_income_0624['state'] = ['NM' if i=='35' \n",
    "                           else 'OK' if i == '40' else 'TX' for i in SouthWest_income_0624['state_code']]\n",
    "SouthWest_income_0624['county'] = SouthWest_income_0624.apply(lambda row: row.tract[2:5], axis=1)\n",
    "SouthWest_income_0624.to_csv('SouthWest_income_0624.csv')"
   ]
  },
  {
   "cell_type": "markdown",
   "id": "116f609c",
   "metadata": {},
   "source": [
    "## Region5: Western"
   ]
  },
  {
   "cell_type": "code",
   "execution_count": null,
   "id": "3b8ffa26",
   "metadata": {},
   "outputs": [],
   "source": [
    "AZ_income = get_income('04')\n",
    "CO_income = get_income('08')\n",
    "ID_income = get_income('16')\n",
    "MT_income = get_income('30')\n",
    "NV_income = get_income('32')\n",
    "OR_income = get_income('41')\n",
    "UT_income = get_income('49')\n",
    "WY_income = get_income('56')"
   ]
  },
  {
   "cell_type": "code",
   "execution_count": null,
   "id": "ea1aebd5",
   "metadata": {},
   "outputs": [],
   "source": [
    "pdList = [NM_income, AZ_income, CO_income, ID_income, MT_income, NV_income, OR_income, UT_income, WY_income] \n",
    "Western_income = pd.concat(pdList)\n",
    "Western_income.to_csv('Western_income.csv')"
   ]
  },
  {
   "cell_type": "code",
   "execution_count": null,
   "id": "dabdb610",
   "metadata": {},
   "outputs": [],
   "source": [
    "Western_income_new = get_income_melt('Western_income.csv')\n",
    "Western_income_new.to_csv('Western_income_new.csv')"
   ]
  },
  {
   "cell_type": "code",
   "execution_count": null,
   "id": "106a9431",
   "metadata": {},
   "outputs": [],
   "source": [
    "Western_income_0624 = pd.read_csv('Western_income_new.csv', index_col = 0)\n",
    "Western_income_0624['tract'] = Western_income_0624['tract'].astype(str)\n",
    "Western_income_0624['tract']=Western_income_0624['tract'].apply(lambda x: str(x).zfill(11))\n",
    "Western_income_0624['state_code'] = Western_income_0624.apply(lambda row: row.tract[0:2], axis=1)\n",
    "Western_income_0624['state'] = ['NM' if i=='35' else 'AZ' if i == '04' else 'CO' if i == '08'\n",
    "                           else 'ID' if i == '16' else 'MT' if i == '30' else 'NV' if i == '32'\n",
    "                           else 'OR' if i == '41' else 'UT' if i == '49' else 'WY' \n",
    "                           for i in Western_income_0624['state_code']]\n",
    "Western_income_0624['county'] = Western_income_0624.apply(lambda row: row.tract[2:5], axis=1)\n",
    "Western_income_0624.to_csv('Western_income_0624.csv')"
   ]
  },
  {
   "cell_type": "markdown",
   "id": "b9636346",
   "metadata": {},
   "source": [
    "## Region6: California"
   ]
  },
  {
   "cell_type": "code",
   "execution_count": null,
   "id": "91d718ee",
   "metadata": {},
   "outputs": [],
   "source": [
    "CA_income = get_income('06')\n",
    "CA_income.to_csv('CA_income.csv')"
   ]
  },
  {
   "cell_type": "code",
   "execution_count": null,
   "id": "857d0059",
   "metadata": {},
   "outputs": [],
   "source": [
    "CA_income_new = get_income_melt('CA_income.csv')\n",
    "CA_income_new.to_csv('CA_income_new.csv')"
   ]
  },
  {
   "cell_type": "code",
   "execution_count": null,
   "id": "6f09f35f",
   "metadata": {},
   "outputs": [],
   "source": [
    "CA_income_0624 = pd.read_csv('CA_income_new.csv', index_col = 0)\n",
    "CA_income_0624['tract'] = CA_income_0624['tract'].astype(str)\n",
    "CA_income_0624['tract']=CA_income_0624['tract'].apply(lambda x: str(x).zfill(11))\n",
    "CA_income_0624['state_code'] = CA_income_0624.apply(lambda row: row.tract[0:2], axis=1)\n",
    "CA_income_0624['state'] = 'CA'\n",
    "CA_income_0624['county'] = CA_income_0624.apply(lambda row: row.tract[2:5], axis=1)\n",
    "CA_income_0624.to_csv('CA_income_0624.csv')"
   ]
  },
  {
   "cell_type": "markdown",
   "id": "5c4cafc0",
   "metadata": {},
   "source": [
    "# Employed Status"
   ]
  },
  {
   "cell_type": "code",
   "execution_count": null,
   "id": "c5b4a0ce",
   "metadata": {},
   "outputs": [],
   "source": [
    "def get_employed(state_code):\n",
    "    # get area code\n",
    "    test = censusdata.download('acs5', 2013, censusdata.censusgeo([('state', state_code),\n",
    "        ('county', '*'), ('block group', '*')]), ['B23025_001E'])\n",
    "    area_code = pd.DataFrame(test.index.astype(str))\n",
    "    area_code['state'] = area_code[0].apply(lambda x:re.findall('state:(\\d+)',x)[0])\n",
    "    area_code['county'] = area_code[0].apply(lambda x:re.findall('county:(\\d+)',x)[0])\n",
    "    area_code['tract'] = area_code[0].apply(lambda x:re.findall('tract:(\\d+)',x)[0])\n",
    "    area_code['block'] = area_code[0].apply(lambda x:re.findall('block group:(\\d+)',x)[0])\n",
    "    \n",
    "    # get variables\n",
    "    year = [2013, 2014, 2015, 2016, 2017, 2018, 2019, 2020]\n",
    "    Employed = pd.DataFrame(area_code)\n",
    "    Employed.rename( columns={0 :'geo'}, inplace=True)\n",
    "    Employed = Employed.set_index('geo')\n",
    "\n",
    "    for i in year:\n",
    "        employee = censusdata.download('acs5', i,\n",
    "                   censusdata.censusgeo([('state', state_code),\n",
    "                                         ('county', '*'), ('block group', '*')]), \n",
    "                                  ['B23025_001E', 'B23025_002E', 'B23025_004E'])\n",
    "\n",
    "        employee.index = employee.index.astype(str)\n",
    "\n",
    "        Employed[f'{i}_16+_Pop'] = employee['B23025_001E']\n",
    "        Employed[f'{i}_16+_Labor'] = employee['B23025_002E']\n",
    "        Employed[f'{i}_16+_Employed'] = employee['B23025_004E']\n",
    "      \n",
    "    # to tract level\n",
    "    Employed['tract'] = Employed['state'].astype('str') + Employed['county'].astype('str') + \\\n",
    "                        Employed['tract'].astype('str')\n",
    "    Employed = Employed.groupby('tract')[Employed.columns.tolist()[4:]].sum(min_count=1)\n",
    "\n",
    "    return Employed"
   ]
  },
  {
   "cell_type": "code",
   "execution_count": null,
   "id": "83b922a6",
   "metadata": {},
   "outputs": [],
   "source": [
    "def get_employed_melt(cat, pop_file):\n",
    "    year = [2016, 2017, 2018, 2019, 2020, 2021, 2022]\n",
    "    Pop = pd.read_csv(pop_file)\n",
    "    category = ['16+_Pop', '16+_Labor', '16+_Employed']\n",
    "    for j in category:\n",
    "        Pop.loc[Pop[f'2020_{j}'] == 0, f'2020_{j}'] = np.nan\n",
    "        Pop[f'2021_{j}'] = np.nan\n",
    "        Pop[f'2022_{j}'] = np.nan\n",
    "    Pop.reset_index(inplace=True)\n",
    "    df = Pop.melt(\n",
    "        id_vars = ['tract'],\n",
    "        value_vars = [f'{i}_{cat}' for i in year], #vars that we want to melt\n",
    "        var_name = 'year', value_name = cat)\n",
    "    df['year'] = df['year'].str.extract('(\\d+)').astype(str)\n",
    "    df = df.sort_values(by=['tract', 'year'])\n",
    "    df = df.interpolate(method='linear')\n",
    "    df.reset_index(drop=True, inplace=True)\n",
    "    \n",
    "    return df"
   ]
  },
  {
   "cell_type": "code",
   "execution_count": null,
   "id": "80c872ac",
   "metadata": {},
   "outputs": [],
   "source": [
    "def concat_employed_melt(pop_file):\n",
    "    df1 = get_employed_melt('16+_Pop', pop_file)\n",
    "    df2 = get_employed_melt('16+_Labor', pop_file).drop(columns=['tract', 'year'])\n",
    "    df3 = get_employed_melt('16+_Employed', pop_file).drop(columns=['tract', 'year'])\n",
    "    \n",
    "    pdList = [df1, df2, df3]\n",
    "    final_pop = pd.concat(pdList, axis=1)\n",
    "    \n",
    "    return final_pop"
   ]
  },
  {
   "cell_type": "markdown",
   "id": "a551eabc",
   "metadata": {},
   "source": [
    "## Region1: Florida"
   ]
  },
  {
   "cell_type": "code",
   "execution_count": null,
   "id": "f3d4877b",
   "metadata": {},
   "outputs": [],
   "source": [
    "FL_employed = get_employed('12')\n",
    "FL_employed.to_csv('FL_employed.csv')"
   ]
  },
  {
   "cell_type": "code",
   "execution_count": null,
   "id": "7dbdd502",
   "metadata": {},
   "outputs": [],
   "source": [
    "FL_employed_new = concat_employed_melt('FL_employed.csv')\n",
    "FL_employed_new.to_csv('FL_employed_new.csv')"
   ]
  },
  {
   "cell_type": "code",
   "execution_count": null,
   "id": "d3b67f5d",
   "metadata": {},
   "outputs": [],
   "source": [
    "FL_employed_0624 = pd.read_csv('FL_employed_new.csv', index_col = 0)\n",
    "FL_employed_0624['tract'] = FL_employed_0624['tract'].astype(str)\n",
    "FL_employed_0624['tract']=FL_employed_0624['tract'].apply(lambda x: str(x).zfill(11))\n",
    "FL_employed_0624['state_code'] = FL_employed_0624.apply(lambda row: row.tract[0:2], axis=1)\n",
    "FL_employed_0624['state'] = 'FL'\n",
    "FL_employed_0624['county'] = FL_employed_0624.apply(lambda row: row.tract[2:5], axis=1)\n",
    "FL_employed_0624.to_csv('FL_employed_0624.csv')"
   ]
  },
  {
   "cell_type": "markdown",
   "id": "3adc8b7f",
   "metadata": {},
   "source": [
    "## Region2: SouthEast"
   ]
  },
  {
   "cell_type": "code",
   "execution_count": null,
   "id": "85639928",
   "metadata": {},
   "outputs": [],
   "source": [
    "GA_employed = get_employed('13')\n",
    "NC_employed = get_employed('37')\n",
    "SC_employed = get_employed('45')\n",
    "AL_employed = get_employed('01')"
   ]
  },
  {
   "cell_type": "code",
   "execution_count": null,
   "id": "578ceb55",
   "metadata": {},
   "outputs": [],
   "source": [
    "pdList = [GA_employed, NC_employed, SC_employed, AL_employed]  \n",
    "SouthEast_employed = pd.concat(pdList)\n",
    "SouthEast_employed.to_csv('SouthEast_employed.csv')"
   ]
  },
  {
   "cell_type": "code",
   "execution_count": null,
   "id": "d7bb7f20",
   "metadata": {},
   "outputs": [],
   "source": [
    "SouthEast_employed_new = concat_employed_melt('SouthEast_employed.csv')\n",
    "SouthEast_employed_new.to_csv('SouthEast_employed_new.csv')"
   ]
  },
  {
   "cell_type": "code",
   "execution_count": null,
   "id": "3c1efc42",
   "metadata": {},
   "outputs": [],
   "source": [
    "SouthEast_employed_0624 = pd.read_csv('SouthEast_employed_new.csv', index_col = 0)\n",
    "SouthEast_employed_0624['tract'] = SouthEast_employed_0624['tract'].astype(str)\n",
    "SouthEast_employed_0624['tract']=SouthEast_employed_0624['tract'].apply(lambda x: str(x).zfill(11))\n",
    "SouthEast_employed_0624['state_code'] = SouthEast_employed_0624.apply(lambda row: row.tract[0:2], axis=1)\n",
    "SouthEast_employed_0624['state'] = ['AL' if i=='01' else 'GA' if i == '13' \n",
    "                               else 'NC' if i == '37' else 'SC' for i in SouthEast_employed_0624['state_code']]\n",
    "SouthEast_employed_0624['county'] = SouthEast_employed_0624.apply(lambda row: row.tract[2:5], axis=1)\n",
    "SouthEast_employed_0624.to_csv('SouthEast_employed_0624.csv')"
   ]
  },
  {
   "cell_type": "markdown",
   "id": "ea2c4c49",
   "metadata": {},
   "source": [
    "## Region3: South"
   ]
  },
  {
   "cell_type": "code",
   "execution_count": null,
   "id": "efd03854",
   "metadata": {},
   "outputs": [],
   "source": [
    "AR_employed = get_employed('05')\n",
    "IN_employed = get_employed('18')\n",
    "KY_employed = get_employed('21')\n",
    "LA_employed = get_employed('22')\n",
    "MS_employed = get_employed('28')\n",
    "TN_employed = get_employed('47')"
   ]
  },
  {
   "cell_type": "code",
   "execution_count": null,
   "id": "dc1e341b",
   "metadata": {},
   "outputs": [],
   "source": [
    "pdList = [GA_employed, AL_employed, AR_employed, IN_employed, KY_employed, LA_employed, MS_employed, TN_employed] \n",
    "South_employed = pd.concat(pdList)\n",
    "South_employed.to_csv('South_employed.csv')"
   ]
  },
  {
   "cell_type": "code",
   "execution_count": null,
   "id": "34ad9dbb",
   "metadata": {},
   "outputs": [],
   "source": [
    "South_employed_new = concat_employed_melt('South_employed.csv')\n",
    "South_employed_new.to_csv('South_employed_new.csv')"
   ]
  },
  {
   "cell_type": "code",
   "execution_count": null,
   "id": "52c74c88",
   "metadata": {},
   "outputs": [],
   "source": [
    "South_employed_0624 = pd.read_csv('South_employed_new.csv', index_col = 0)\n",
    "South_employed_0624['tract'] = South_employed_0624['tract'].astype(str)\n",
    "South_employed_0624['tract']=South_employed_0624['tract'].apply(lambda x: str(x).zfill(11))\n",
    "South_employed_0624['state_code'] = South_employed_0624.apply(lambda row: row.tract[0:2], axis=1)\n",
    "South_employed_0624['state'] = ['AL' if i=='01' else 'GA' if i == '13' else 'AR' if i == '05' \n",
    "                           else 'IN' if i == '18' else 'KY' if i == '21' else 'LA' if i == '22' \n",
    "                           else 'MS' if i == '28' else 'TN' for i in South_employed_0624['state_code']]\n",
    "South_employed_0624['county'] = South_employed_0624.apply(lambda row: row.tract[2:5], axis=1)\n",
    "South_employed_0624.to_csv('South_employed_0624.csv')"
   ]
  },
  {
   "cell_type": "markdown",
   "id": "a10f9caf",
   "metadata": {},
   "source": [
    "## Region4: SouthWest"
   ]
  },
  {
   "cell_type": "code",
   "execution_count": null,
   "id": "54d7486b",
   "metadata": {},
   "outputs": [],
   "source": [
    "NM_employed = get_employed('35')\n",
    "OK_employed = get_employed('40')\n",
    "TX_employed = get_employed('48')"
   ]
  },
  {
   "cell_type": "code",
   "execution_count": null,
   "id": "d6755e9a",
   "metadata": {},
   "outputs": [],
   "source": [
    "pdList = [NM_employed, OK_employed, TX_employed] \n",
    "SouthWest_employed = pd.concat(pdList)\n",
    "SouthWest_employed.to_csv('SouthWest_employed.csv')"
   ]
  },
  {
   "cell_type": "code",
   "execution_count": null,
   "id": "97b19509",
   "metadata": {},
   "outputs": [],
   "source": [
    "SouthWest_employed_new = concat_employed_melt('SouthWest_employed.csv')\n",
    "SouthWest_employed_new.to_csv('SouthWest_employed_new.csv')"
   ]
  },
  {
   "cell_type": "code",
   "execution_count": null,
   "id": "66fafbde",
   "metadata": {},
   "outputs": [],
   "source": [
    "SouthWest_employed_0624 = pd.read_csv('SouthWest_employed_new.csv', index_col = 0)\n",
    "SouthWest_employed_0624['tract'] = SouthWest_employed_0624['tract'].astype(str)\n",
    "SouthWest_employed_0624['tract']=SouthWest_employed_0624['tract'].apply(lambda x: str(x).zfill(11))\n",
    "SouthWest_employed_0624['state_code'] = SouthWest_employed_0624.apply(lambda row: row.tract[0:2], axis=1)\n",
    "SouthWest_employed_0624['state'] = ['NM' if i=='35' \n",
    "                           else 'OK' if i == '40' else 'TX' for i in SouthWest_employed_0624['state_code']]\n",
    "SouthWest_employed_0624['county'] = SouthWest_employed_0624.apply(lambda row: row.tract[2:5], axis=1)\n",
    "SouthWest_employed_0624.to_csv('SouthWest_employed_0624.csv')"
   ]
  },
  {
   "cell_type": "markdown",
   "id": "859a2d00",
   "metadata": {},
   "source": [
    "## Region5: Western"
   ]
  },
  {
   "cell_type": "code",
   "execution_count": null,
   "id": "c1228e5f",
   "metadata": {},
   "outputs": [],
   "source": [
    "AZ_employed = get_employed('04')\n",
    "CO_employed = get_employed('08')\n",
    "ID_employed = get_employed('16')\n",
    "MT_employed = get_employed('30')\n",
    "NV_employed = get_employed('32')\n",
    "OR_employed = get_employed('41')\n",
    "UT_employed = get_employed('49')\n",
    "WY_employed = get_employed('56')"
   ]
  },
  {
   "cell_type": "code",
   "execution_count": null,
   "id": "89bfa43b",
   "metadata": {},
   "outputs": [],
   "source": [
    "pdList = [NM_employed, AZ_employed, CO_employed, ID_employed, MT_employed, NV_employed, OR_employed, \n",
    "          UT_employed, WY_employed] \n",
    "Western_employed = pd.concat(pdList)\n",
    "Western_employed.to_csv('Western_employed.csv')"
   ]
  },
  {
   "cell_type": "code",
   "execution_count": null,
   "id": "059f3339",
   "metadata": {},
   "outputs": [],
   "source": [
    "Western_employed_new = concat_employed_melt('Western_employed.csv')\n",
    "Western_employed_new.to_csv('Western_employed_new.csv')"
   ]
  },
  {
   "cell_type": "code",
   "execution_count": null,
   "id": "59bfccab",
   "metadata": {},
   "outputs": [],
   "source": [
    "Western_employed_0624 = pd.read_csv('Western_employed_new.csv', index_col = 0)\n",
    "Western_employed_0624['tract'] = Western_employed_0624['tract'].astype(str)\n",
    "Western_employed_0624['tract']=Western_employed_0624['tract'].apply(lambda x: str(x).zfill(11))\n",
    "Western_employed_0624['state_code'] = Western_employed_0624.apply(lambda row: row.tract[0:2], axis=1)\n",
    "Western_employed_0624['state'] = ['NM' if i=='35' else 'AZ' if i == '04' else 'CO' if i == '08'\n",
    "                           else 'ID' if i == '16' else 'MT' if i == '30' else 'NV' if i == '32'\n",
    "                           else 'OR' if i == '41' else 'UT' if i == '49' else 'WY' \n",
    "                           for i in Western_employed_0624['state_code']]\n",
    "Western_employed_0624['county'] = Western_employed_0624.apply(lambda row: row.tract[2:5], axis=1)\n",
    "Western_employed_0624.to_csv('Western_employed_0624.csv')"
   ]
  },
  {
   "cell_type": "markdown",
   "id": "293cdf6b",
   "metadata": {},
   "source": [
    "## Region6: California"
   ]
  },
  {
   "cell_type": "code",
   "execution_count": null,
   "id": "80cc0760",
   "metadata": {},
   "outputs": [],
   "source": [
    "CA_employed = get_employed('06')\n",
    "CA_employed.to_csv('CA_employed.csv')"
   ]
  },
  {
   "cell_type": "code",
   "execution_count": null,
   "id": "4b11809d",
   "metadata": {},
   "outputs": [],
   "source": [
    "CA_employed_new = concat_employed_melt('CA_employed.csv')\n",
    "CA_employed_new.to_csv('CA_employed_new.csv')"
   ]
  },
  {
   "cell_type": "code",
   "execution_count": null,
   "id": "66d0675f",
   "metadata": {},
   "outputs": [],
   "source": [
    "CA_employed_0624 = pd.read_csv('CA_employed_new.csv', index_col = 0)\n",
    "CA_employed_0624['tract'] = CA_employed_0624['tract'].astype(str)\n",
    "CA_employed_0624['tract']=CA_employed_0624['tract'].apply(lambda x: str(x).zfill(11))\n",
    "CA_employed_0624['state_code'] = CA_employed_0624.apply(lambda row: row.tract[0:2], axis=1)\n",
    "CA_employed_0624['state'] = 'CA'\n",
    "CA_employed_0624['county'] = CA_employed_0624.apply(lambda row: row.tract[2:5], axis=1)\n",
    "CA_employed_0624.to_csv('CA_employed_0624.csv')"
   ]
  },
  {
   "cell_type": "markdown",
   "id": "172b2f58",
   "metadata": {},
   "source": [
    "# Area for each tract"
   ]
  },
  {
   "cell_type": "code",
   "execution_count": 17,
   "id": "17c8205c",
   "metadata": {},
   "outputs": [
    {
     "data": {
      "image/png": "[encoded data removed]",
      "text/plain": [
       "<Figure size 432x288 with 1 Axes>"
      ]
     },
     "metadata": {
      "needs_background": "light"
     },
     "output_type": "display_data"
    }
   ],
   "source": [
    "# Example download MSA\n",
    "import geopandas as gpd\n",
    "from matplotlib import pyplot as plt\n",
    "\n",
    "url_msa = r'https://www2.census.gov/geo/tiger/TIGER2019/CBSA/tl_2019_us_cbsa.zip'\n",
    "msa = gpd.read_file(url_msa)\n",
    "msa.plot()\n",
    "plt.show()"
   ]
  },
  {
   "cell_type": "code",
   "execution_count": 18,
   "id": "cd975312",
   "metadata": {},
   "outputs": [
    {
     "name": "stderr",
     "output_type": "stream",
     "text": [
      "/opt/anaconda3/envs/2021/lib/python3.7/site-packages/urllib3/connectionpool.py:1020: InsecureRequestWarning: Unverified HTTPS request is being made to host 'www2.census.gov'. Adding certificate verification is strongly advised. See: https://urllib3.readthedocs.io/en/latest/advanced-usage.html#ssl-warnings\n",
      "  InsecureRequestWarning,\n"
     ]
    },
    {
     "data": {
      "image/png": "[encoded data removed]",
      "text/plain": [
       "<Figure size 432x288 with 1 Axes>"
      ]
     },
     "metadata": {
      "needs_background": "light"
     },
     "output_type": "display_data"
    }
   ],
   "source": [
    "from bs4 import BeautifulSoup\n",
    "import pandas as pd\n",
    "import re\n",
    "import requests\n",
    "import os\n",
    "import json\n",
    "\n",
    "def get_zip(url):\n",
    "    front_page = requests.get(url,verify=False)\n",
    "    soup = BeautifulSoup(front_page.content,'html.parser')\n",
    "    zf = soup.find_all(\"a\",href=re.compile(r\"zip\"))\n",
    "    # Maybe should use href \n",
    "    zl = [os.path.join(url,i['href']) for i in zf]\n",
    "    return zl\n",
    "\n",
    "base_url = r'https://www2.census.gov/geo/tiger/TIGER2021/TRACT/'\n",
    "res = get_zip(base_url)\n",
    "\n",
    "geo_tract = []\n",
    "for surl in res:\n",
    "    geo_tract.append(gpd.read_file(surl))\n",
    "\n",
    "geo_full = pd.concat(geo_tract)\n",
    "\n",
    "# See State FIPS codes\n",
    "# https://www.nrcs.usda.gov/wps/portal/nrcs/detail/?cid=nrcs143_013696\n",
    "\n",
    "geo_full[geo_full['STATEFP'] == '01'].plot()\n",
    "plt.show()"
   ]
  },
  {
   "cell_type": "code",
   "execution_count": 19,
   "id": "e94a9427",
   "metadata": {},
   "outputs": [],
   "source": [
    "def get_tract(state_code, region):\n",
    "    \n",
    "    test = censusdata.download('acs5', 2013, censusdata.censusgeo([('state', state_code),\n",
    "        ('county', '*'), ('block group', '*')]), ['B19013_001E'])\n",
    "    area_code = pd.DataFrame(test.index.astype(str))\n",
    "    area_code['state'] = area_code[0].apply(lambda x:re.findall('state:(\\d+)',x)[0])\n",
    "    area_code['county'] = area_code[0].apply(lambda x:re.findall('county:(\\d+)',x)[0])\n",
    "    area_code['tract'] = area_code[0].apply(lambda x:re.findall('tract:(\\d+)',x)[0])\n",
    "    area_code['block'] = area_code[0].apply(lambda x:re.findall('block group:(\\d+)',x)[0])\n",
    "    \n",
    "    area_code['tract'] = area_code['state'].astype('str')+area_code['county'].astype('str')+\\\n",
    "                    area_code['tract'].astype('str')\n",
    "    \n",
    "    code = area_code.groupby(['state', 'county', 'tract'])['block'].sum()\n",
    "    code = pd.DataFrame(code)\n",
    "    code.reset_index(inplace=True)\n",
    "    code['region'] = region\n",
    "    code = code.drop(columns=['block'])\n",
    "    \n",
    "    return code"
   ]
  },
  {
   "cell_type": "code",
   "execution_count": 21,
   "id": "bcaadc9b",
   "metadata": {},
   "outputs": [],
   "source": [
    "def get_area(state_code, region, geo_i):\n",
    "    tract = get_tract(state_code, region)\n",
    "    area = geo_tract[geo_i].loc[:, ['GEOID', 'ALAND']]\n",
    "    area = area.rename(columns = {'GEOID': 'tract'})\n",
    "    Final_Area = tract.merge(area, how='left', on='tract')\n",
    "    \n",
    "    # Deal with missing value with mean of left area\n",
    "    left_mean_area = {}\n",
    "    for i in Final_Area['county'].unique():\n",
    "        left_area = geo_tract[geo_i].groupby('COUNTYFP')['ALAND'].sum()[i] - \\\n",
    "                    Final_Area.groupby('county')['ALAND'].sum()[i]\n",
    "        left_mean = left_area/len(Final_Area[(Final_Area['ALAND'].isnull() == True)&(Final_Area['county'] == i)])\n",
    "        left_mean_area[i] = left_mean\n",
    "    \n",
    "    Final_Area['ALAND'] = Final_Area['ALAND'].fillna(Final_Area['county'].map(left_mean_area))\n",
    "    \n",
    "    return Final_Area"
   ]
  },
  {
   "cell_type": "code",
   "execution_count": null,
   "id": "a3979c8a",
   "metadata": {},
   "outputs": [],
   "source": [
    "FL = get_area('12', 'Florida', 9)"
   ]
  },
  {
   "cell_type": "code",
   "execution_count": null,
   "id": "445fc6c8",
   "metadata": {},
   "outputs": [],
   "source": [
    "GA = get_area('13', 'South East', 10)\n",
    "NC = get_area('37', 'South East', 33)\n",
    "SC = get_area('45', 'South East', 40)\n",
    "AL = get_area('01', 'South East', 0)\n",
    "pdList = [GA, NC, SC, AL]\n",
    "SouthEast = pd.concat(pdList)"
   ]
  },
  {
   "cell_type": "code",
   "execution_count": null,
   "id": "81cec379",
   "metadata": {},
   "outputs": [],
   "source": [
    "GA = get_area('13', 'South', 10)\n",
    "AL = get_area('01', 'South', 0)\n",
    "AR = get_area('05', 'South', 3)\n",
    "IN = get_area('18', 'South', 14)\n",
    "KY = get_area('21', 'South', 17)\n",
    "LA = get_area('22', 'South', 18)\n",
    "MS = get_area('28', 'South', 24)\n",
    "TN = get_area('47', 'South', 42)\n",
    "pdList = [GA, AL, AR, IN, KY, LA, MS, TN]\n",
    "South = pd.concat(pdList)"
   ]
  },
  {
   "cell_type": "code",
   "execution_count": null,
   "id": "5d47f7b6",
   "metadata": {},
   "outputs": [],
   "source": [
    "NM = get_area('35', 'South West', 31)\n",
    "OK = get_area('40', 'South West', 36)\n",
    "TX = get_area('48', 'South West', 43)\n",
    "pdList = [NM, OK, TX]\n",
    "SouthWest = pd.concat(pdList)"
   ]
  },
  {
   "cell_type": "code",
   "execution_count": null,
   "id": "035419ec",
   "metadata": {},
   "outputs": [],
   "source": [
    "NM = get_area('35', 'South', 31)\n",
    "AZ = get_area('04', 'South', 2)\n",
    "CO = get_area('08', 'South', 5)\n",
    "ID = get_area('16', 'South', 12)\n",
    "MT = get_area('30', 'South', 26)\n",
    "NV = get_area('32', 'South', 28)\n",
    "OR = get_area('41', 'South', 37)\n",
    "UT = get_area('49', 'South', 44)\n",
    "WY = get_area('56', 'South', 50)\n",
    "pdList = [NM, AZ, CO, ID, MT, NV, OR, UT, WY]\n",
    "Western = pd.concat(pdList)"
   ]
  },
  {
   "cell_type": "code",
   "execution_count": null,
   "id": "cd8dab89",
   "metadata": {},
   "outputs": [],
   "source": [
    "CA = get_area('06', 'California', 4)"
   ]
  },
  {
   "cell_type": "code",
   "execution_count": null,
   "id": "4685ebf3",
   "metadata": {},
   "outputs": [],
   "source": [
    "FL.to_csv('FL_area.csv')\n",
    "SouthEast.to_csv('SouthEast_area.csv')\n",
    "South.to_csv('South_area.csv')\n",
    "SouthWest.to_csv('SouthWest_area.csv')\n",
    "Western.to_csv('Western_area.csv')\n",
    "CA.to_csv('CA_area.csv')"
   ]
  }
 ],
 "metadata": {
  "kernelspec": {
   "display_name": "Python 3",
   "language": "python",
   "name": "python3"
  },
  "language_info": {
   "codemirror_mode": {
    "name": "ipython",
    "version": 3
   },
   "file_extension": ".py",
   "mimetype": "text/x-python",
   "name": "python",
   "nbconvert_exporter": "python",
   "pygments_lexer": "ipython3",
   "version": "3.7.10"
  }
 },
 "nbformat": 4,
 "nbformat_minor": 5
}
